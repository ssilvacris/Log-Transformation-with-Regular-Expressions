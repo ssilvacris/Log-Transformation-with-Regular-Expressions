{
 "cells": [
  {
   "cell_type": "markdown",
   "metadata": {},
   "source": [
    "\n",
    "\n",
    "# Data Science amb Python\n",
    "\n",
    "**Cristiane de Souza da Silva**\n",
    "\n",
    "**Març 2021**\n",
    "\n",
    "**Tasca 7 - Sprint 5 : Transformació Registre Log amb Regular expressions**\n"
   ]
  },
  {
   "cell_type": "markdown",
   "metadata": {},
   "source": [
    "## Exercici 1\n",
    "\n",
    "Normalitza, identifica i enumera cada un dels atributs / variables de l'estructura de l'arxiu \"Web_access_log-akumenius.com\" que trobaràs al repositori de GitHub \"Data-sources\"."
   ]
  },
  {
   "cell_type": "code",
   "execution_count": 1,
   "metadata": {},
   "outputs": [],
   "source": [
    "import numpy as np, pandas as pd\n",
    "import re"
   ]
  },
  {
   "cell_type": "markdown",
   "metadata": {},
   "source": [
    "Para la normalización, primero se decidió cómo dividir el encabezado del texto en varias columnas.\n",
    "\n",
    "Investigué en el sitio web de  [Apache](https://httpd.apache.org/docs/2.4/logs.html) cómo se realizó un acceso al registro.\n",
    "\n",
    "Las principales divisiones consideradas fueron:\n",
    "\n",
    "- current_computer: computadora actual utilizada para el acceso \n",
    "- ip_adress: dirección única que identifica un dispositivo \n",
    "- time: hora en que se realizó el acceso\n",
    "- client_request: La línea de solicitud del cliente \n",
    "- HTTP_status: Este es el código de estado que el servidor envía al cliente.\n",
    "- user_agent: es el encabezado de solicitud HTTP del agente de usuario.\n"
   ]
  },
  {
   "cell_type": "code",
   "execution_count": 2,
   "metadata": {},
   "outputs": [
    {
     "data": {
      "text/plain": [
       "['current_computer',\n",
       " 'ip_adress',\n",
       " 'time',\n",
       " 'client_request',\n",
       " 'HTTP_status',\n",
       " 'user_agent']"
      ]
     },
     "execution_count": 2,
     "metadata": {},
     "output_type": "execute_result"
    }
   ],
   "source": [
    "log_columns = ['current_computer', 'ip_adress', 'time','client_request', 'HTTP_status', 'user_agent' ]\n",
    "log_columns"
   ]
  },
  {
   "cell_type": "markdown",
   "metadata": {},
   "source": [
    "## Exercici 2\n",
    "\n",
    "Neteja, preprocesa, estructura i transforma (dataframe) les dades del registre d'Accés a la web."
   ]
  },
  {
   "cell_type": "code",
   "execution_count": 3,
   "metadata": {},
   "outputs": [
    {
     "data": {
      "text/html": [
       "<div>\n",
       "<style scoped>\n",
       "    .dataframe tbody tr th:only-of-type {\n",
       "        vertical-align: middle;\n",
       "    }\n",
       "\n",
       "    .dataframe tbody tr th {\n",
       "        vertical-align: top;\n",
       "    }\n",
       "\n",
       "    .dataframe thead th {\n",
       "        text-align: right;\n",
       "    }\n",
       "</style>\n",
       "<table border=\"1\" class=\"dataframe\">\n",
       "  <thead>\n",
       "    <tr style=\"text-align: right;\">\n",
       "      <th></th>\n",
       "      <th>0</th>\n",
       "      <th>1</th>\n",
       "      <th>2</th>\n",
       "      <th>3</th>\n",
       "      <th>4</th>\n",
       "      <th>5</th>\n",
       "      <th>6</th>\n",
       "      <th>7</th>\n",
       "      <th>8</th>\n",
       "      <th>9</th>\n",
       "      <th>10</th>\n",
       "    </tr>\n",
       "  </thead>\n",
       "  <tbody>\n",
       "    <tr>\n",
       "      <th>0</th>\n",
       "      <td>localhost</td>\n",
       "      <td>127.0.0.1</td>\n",
       "      <td>-</td>\n",
       "      <td>-</td>\n",
       "      <td>[23/Feb/2014:03:10:31 +0100]</td>\n",
       "      <td>\"OPTIONS * HTTP/1.0\"</td>\n",
       "      <td>200</td>\n",
       "      <td>-</td>\n",
       "      <td>\"-\"</td>\n",
       "      <td>\"Apache (internal dummy connection)\"</td>\n",
       "      <td>VLOG=-</td>\n",
       "    </tr>\n",
       "    <tr>\n",
       "      <th>1</th>\n",
       "      <td>localhost</td>\n",
       "      <td>127.0.0.1</td>\n",
       "      <td>-</td>\n",
       "      <td>-</td>\n",
       "      <td>[23/Feb/2014:03:10:31 +0100]</td>\n",
       "      <td>\"OPTIONS * HTTP/1.0\"</td>\n",
       "      <td>200</td>\n",
       "      <td>-</td>\n",
       "      <td>\"-\"</td>\n",
       "      <td>\"Apache (internal dummy connection)\"</td>\n",
       "      <td>VLOG=-</td>\n",
       "    </tr>\n",
       "    <tr>\n",
       "      <th>2</th>\n",
       "      <td>localhost</td>\n",
       "      <td>127.0.0.1</td>\n",
       "      <td>-</td>\n",
       "      <td>-</td>\n",
       "      <td>[23/Feb/2014:03:10:31 +0100]</td>\n",
       "      <td>\"OPTIONS * HTTP/1.0\"</td>\n",
       "      <td>200</td>\n",
       "      <td>-</td>\n",
       "      <td>\"-\"</td>\n",
       "      <td>\"Apache (internal dummy connection)\"</td>\n",
       "      <td>VLOG=-</td>\n",
       "    </tr>\n",
       "    <tr>\n",
       "      <th>3</th>\n",
       "      <td>localhost</td>\n",
       "      <td>127.0.0.1</td>\n",
       "      <td>-</td>\n",
       "      <td>-</td>\n",
       "      <td>[23/Feb/2014:03:10:31 +0100]</td>\n",
       "      <td>\"OPTIONS * HTTP/1.0\"</td>\n",
       "      <td>200</td>\n",
       "      <td>-</td>\n",
       "      <td>\"-\"</td>\n",
       "      <td>\"Apache (internal dummy connection)\"</td>\n",
       "      <td>VLOG=-</td>\n",
       "    </tr>\n",
       "    <tr>\n",
       "      <th>4</th>\n",
       "      <td>localhost</td>\n",
       "      <td>127.0.0.1</td>\n",
       "      <td>-</td>\n",
       "      <td>-</td>\n",
       "      <td>[23/Feb/2014:03:10:31 +0100]</td>\n",
       "      <td>\"OPTIONS * HTTP/1.0\"</td>\n",
       "      <td>200</td>\n",
       "      <td>-</td>\n",
       "      <td>\"-\"</td>\n",
       "      <td>\"Apache (internal dummy connection)\"</td>\n",
       "      <td>VLOG=-</td>\n",
       "    </tr>\n",
       "  </tbody>\n",
       "</table>\n",
       "</div>"
      ],
      "text/plain": [
       "          0          1  2  3                             4   \\\n",
       "0  localhost  127.0.0.1  -  -  [23/Feb/2014:03:10:31 +0100]   \n",
       "1  localhost  127.0.0.1  -  -  [23/Feb/2014:03:10:31 +0100]   \n",
       "2  localhost  127.0.0.1  -  -  [23/Feb/2014:03:10:31 +0100]   \n",
       "3  localhost  127.0.0.1  -  -  [23/Feb/2014:03:10:31 +0100]   \n",
       "4  localhost  127.0.0.1  -  -  [23/Feb/2014:03:10:31 +0100]   \n",
       "\n",
       "                     5    6  7    8                                     9   \\\n",
       "0  \"OPTIONS * HTTP/1.0\"  200  -  \"-\"  \"Apache (internal dummy connection)\"   \n",
       "1  \"OPTIONS * HTTP/1.0\"  200  -  \"-\"  \"Apache (internal dummy connection)\"   \n",
       "2  \"OPTIONS * HTTP/1.0\"  200  -  \"-\"  \"Apache (internal dummy connection)\"   \n",
       "3  \"OPTIONS * HTTP/1.0\"  200  -  \"-\"  \"Apache (internal dummy connection)\"   \n",
       "4  \"OPTIONS * HTTP/1.0\"  200  -  \"-\"  \"Apache (internal dummy connection)\"   \n",
       "\n",
       "       10  \n",
       "0  VLOG=-  \n",
       "1  VLOG=-  \n",
       "2  VLOG=-  \n",
       "3  VLOG=-  \n",
       "4  VLOG=-  "
      ]
     },
     "execution_count": 3,
     "metadata": {},
     "output_type": "execute_result"
    }
   ],
   "source": [
    "access_log = pd.read_csv('Web_access_log-akumenius.com.txt',sep=r'\\s(?=(?:[^\"]*\"[^\"]*\")*[^\"]*$)(?![^\\[]*\\])',\n",
    "                         engine='python', header=None, parse_dates=True) \n",
    "                         \n",
    "access_log.head()"
   ]
  },
  {
   "cell_type": "code",
   "execution_count": 4,
   "metadata": {},
   "outputs": [
    {
     "data": {
      "text/html": [
       "<div>\n",
       "<style scoped>\n",
       "    .dataframe tbody tr th:only-of-type {\n",
       "        vertical-align: middle;\n",
       "    }\n",
       "\n",
       "    .dataframe tbody tr th {\n",
       "        vertical-align: top;\n",
       "    }\n",
       "\n",
       "    .dataframe thead th {\n",
       "        text-align: right;\n",
       "    }\n",
       "</style>\n",
       "<table border=\"1\" class=\"dataframe\">\n",
       "  <thead>\n",
       "    <tr style=\"text-align: right;\">\n",
       "      <th></th>\n",
       "      <th>0</th>\n",
       "      <th>1</th>\n",
       "      <th>4</th>\n",
       "      <th>5</th>\n",
       "      <th>6</th>\n",
       "      <th>9</th>\n",
       "    </tr>\n",
       "  </thead>\n",
       "  <tbody>\n",
       "    <tr>\n",
       "      <th>0</th>\n",
       "      <td>localhost</td>\n",
       "      <td>127.0.0.1</td>\n",
       "      <td>[23/Feb/2014:03:10:31 +0100]</td>\n",
       "      <td>\"OPTIONS * HTTP/1.0\"</td>\n",
       "      <td>200</td>\n",
       "      <td>\"Apache (internal dummy connection)\"</td>\n",
       "    </tr>\n",
       "    <tr>\n",
       "      <th>1</th>\n",
       "      <td>localhost</td>\n",
       "      <td>127.0.0.1</td>\n",
       "      <td>[23/Feb/2014:03:10:31 +0100]</td>\n",
       "      <td>\"OPTIONS * HTTP/1.0\"</td>\n",
       "      <td>200</td>\n",
       "      <td>\"Apache (internal dummy connection)\"</td>\n",
       "    </tr>\n",
       "    <tr>\n",
       "      <th>2</th>\n",
       "      <td>localhost</td>\n",
       "      <td>127.0.0.1</td>\n",
       "      <td>[23/Feb/2014:03:10:31 +0100]</td>\n",
       "      <td>\"OPTIONS * HTTP/1.0\"</td>\n",
       "      <td>200</td>\n",
       "      <td>\"Apache (internal dummy connection)\"</td>\n",
       "    </tr>\n",
       "    <tr>\n",
       "      <th>3</th>\n",
       "      <td>localhost</td>\n",
       "      <td>127.0.0.1</td>\n",
       "      <td>[23/Feb/2014:03:10:31 +0100]</td>\n",
       "      <td>\"OPTIONS * HTTP/1.0\"</td>\n",
       "      <td>200</td>\n",
       "      <td>\"Apache (internal dummy connection)\"</td>\n",
       "    </tr>\n",
       "    <tr>\n",
       "      <th>4</th>\n",
       "      <td>localhost</td>\n",
       "      <td>127.0.0.1</td>\n",
       "      <td>[23/Feb/2014:03:10:31 +0100]</td>\n",
       "      <td>\"OPTIONS * HTTP/1.0\"</td>\n",
       "      <td>200</td>\n",
       "      <td>\"Apache (internal dummy connection)\"</td>\n",
       "    </tr>\n",
       "    <tr>\n",
       "      <th>...</th>\n",
       "      <td>...</td>\n",
       "      <td>...</td>\n",
       "      <td>...</td>\n",
       "      <td>...</td>\n",
       "      <td>...</td>\n",
       "      <td>...</td>\n",
       "    </tr>\n",
       "    <tr>\n",
       "      <th>261868</th>\n",
       "      <td>www.akumenius.com</td>\n",
       "      <td>5.255.253.53</td>\n",
       "      <td>[02/Mar/2014:03:05:39 +0100]</td>\n",
       "      <td>\"GET / HTTP/1.1\"</td>\n",
       "      <td>200</td>\n",
       "      <td>\"Mozilla/5.0 (compatible; YandexBot/3.0; +http...</td>\n",
       "    </tr>\n",
       "    <tr>\n",
       "      <th>261869</th>\n",
       "      <td>www.akumenius.com</td>\n",
       "      <td>74.86.158.107</td>\n",
       "      <td>[02/Mar/2014:03:09:52 +0100]</td>\n",
       "      <td>\"HEAD / HTTP/1.1\"</td>\n",
       "      <td>200</td>\n",
       "      <td>\"Mozilla/5.0+(compatible; UptimeRobot/2.0; htt...</td>\n",
       "    </tr>\n",
       "    <tr>\n",
       "      <th>261870</th>\n",
       "      <td>localhost</td>\n",
       "      <td>127.0.0.1</td>\n",
       "      <td>[02/Mar/2014:03:10:18 +0100]</td>\n",
       "      <td>\"OPTIONS * HTTP/1.0\"</td>\n",
       "      <td>200</td>\n",
       "      <td>\"Apache (internal dummy connection)\"</td>\n",
       "    </tr>\n",
       "    <tr>\n",
       "      <th>261871</th>\n",
       "      <td>localhost</td>\n",
       "      <td>127.0.0.1</td>\n",
       "      <td>[02/Mar/2014:03:10:18 +0100]</td>\n",
       "      <td>\"OPTIONS * HTTP/1.0\"</td>\n",
       "      <td>200</td>\n",
       "      <td>\"Apache (internal dummy connection)\"</td>\n",
       "    </tr>\n",
       "    <tr>\n",
       "      <th>261872</th>\n",
       "      <td>localhost</td>\n",
       "      <td>127.0.0.1</td>\n",
       "      <td>[02/Mar/2014:03:10:18 +0100]</td>\n",
       "      <td>\"OPTIONS * HTTP/1.0\"</td>\n",
       "      <td>200</td>\n",
       "      <td>\"Apache (internal dummy connection)\"</td>\n",
       "    </tr>\n",
       "  </tbody>\n",
       "</table>\n",
       "<p>261873 rows × 6 columns</p>\n",
       "</div>"
      ],
      "text/plain": [
       "                        0              1                             4  \\\n",
       "0               localhost      127.0.0.1  [23/Feb/2014:03:10:31 +0100]   \n",
       "1               localhost      127.0.0.1  [23/Feb/2014:03:10:31 +0100]   \n",
       "2               localhost      127.0.0.1  [23/Feb/2014:03:10:31 +0100]   \n",
       "3               localhost      127.0.0.1  [23/Feb/2014:03:10:31 +0100]   \n",
       "4               localhost      127.0.0.1  [23/Feb/2014:03:10:31 +0100]   \n",
       "...                   ...            ...                           ...   \n",
       "261868  www.akumenius.com   5.255.253.53  [02/Mar/2014:03:05:39 +0100]   \n",
       "261869  www.akumenius.com  74.86.158.107  [02/Mar/2014:03:09:52 +0100]   \n",
       "261870          localhost      127.0.0.1  [02/Mar/2014:03:10:18 +0100]   \n",
       "261871          localhost      127.0.0.1  [02/Mar/2014:03:10:18 +0100]   \n",
       "261872          localhost      127.0.0.1  [02/Mar/2014:03:10:18 +0100]   \n",
       "\n",
       "                           5    6  \\\n",
       "0       \"OPTIONS * HTTP/1.0\"  200   \n",
       "1       \"OPTIONS * HTTP/1.0\"  200   \n",
       "2       \"OPTIONS * HTTP/1.0\"  200   \n",
       "3       \"OPTIONS * HTTP/1.0\"  200   \n",
       "4       \"OPTIONS * HTTP/1.0\"  200   \n",
       "...                      ...  ...   \n",
       "261868      \"GET / HTTP/1.1\"  200   \n",
       "261869     \"HEAD / HTTP/1.1\"  200   \n",
       "261870  \"OPTIONS * HTTP/1.0\"  200   \n",
       "261871  \"OPTIONS * HTTP/1.0\"  200   \n",
       "261872  \"OPTIONS * HTTP/1.0\"  200   \n",
       "\n",
       "                                                        9  \n",
       "0                    \"Apache (internal dummy connection)\"  \n",
       "1                    \"Apache (internal dummy connection)\"  \n",
       "2                    \"Apache (internal dummy connection)\"  \n",
       "3                    \"Apache (internal dummy connection)\"  \n",
       "4                    \"Apache (internal dummy connection)\"  \n",
       "...                                                   ...  \n",
       "261868  \"Mozilla/5.0 (compatible; YandexBot/3.0; +http...  \n",
       "261869  \"Mozilla/5.0+(compatible; UptimeRobot/2.0; htt...  \n",
       "261870               \"Apache (internal dummy connection)\"  \n",
       "261871               \"Apache (internal dummy connection)\"  \n",
       "261872               \"Apache (internal dummy connection)\"  \n",
       "\n",
       "[261873 rows x 6 columns]"
      ]
     },
     "execution_count": 4,
     "metadata": {},
     "output_type": "execute_result"
    }
   ],
   "source": [
    "#Remove columns with dash (\"-\")\n",
    "\n",
    "access_log = access_log.drop([2, 3,7,8, 10], axis=1)\n",
    "access_log"
   ]
  },
  {
   "cell_type": "code",
   "execution_count": 5,
   "metadata": {},
   "outputs": [
    {
     "data": {
      "text/html": [
       "<div>\n",
       "<style scoped>\n",
       "    .dataframe tbody tr th:only-of-type {\n",
       "        vertical-align: middle;\n",
       "    }\n",
       "\n",
       "    .dataframe tbody tr th {\n",
       "        vertical-align: top;\n",
       "    }\n",
       "\n",
       "    .dataframe thead th {\n",
       "        text-align: right;\n",
       "    }\n",
       "</style>\n",
       "<table border=\"1\" class=\"dataframe\">\n",
       "  <thead>\n",
       "    <tr style=\"text-align: right;\">\n",
       "      <th></th>\n",
       "      <th>current_computer</th>\n",
       "      <th>ip_adress</th>\n",
       "      <th>time</th>\n",
       "      <th>client_request</th>\n",
       "      <th>HTTP_status</th>\n",
       "      <th>user_agent</th>\n",
       "    </tr>\n",
       "  </thead>\n",
       "  <tbody>\n",
       "    <tr>\n",
       "      <th>0</th>\n",
       "      <td>localhost</td>\n",
       "      <td>127.0.0.1</td>\n",
       "      <td>[23/Feb/2014:03:10:31 +0100]</td>\n",
       "      <td>\"OPTIONS * HTTP/1.0\"</td>\n",
       "      <td>200</td>\n",
       "      <td>\"Apache (internal dummy connection)\"</td>\n",
       "    </tr>\n",
       "    <tr>\n",
       "      <th>1</th>\n",
       "      <td>localhost</td>\n",
       "      <td>127.0.0.1</td>\n",
       "      <td>[23/Feb/2014:03:10:31 +0100]</td>\n",
       "      <td>\"OPTIONS * HTTP/1.0\"</td>\n",
       "      <td>200</td>\n",
       "      <td>\"Apache (internal dummy connection)\"</td>\n",
       "    </tr>\n",
       "    <tr>\n",
       "      <th>2</th>\n",
       "      <td>localhost</td>\n",
       "      <td>127.0.0.1</td>\n",
       "      <td>[23/Feb/2014:03:10:31 +0100]</td>\n",
       "      <td>\"OPTIONS * HTTP/1.0\"</td>\n",
       "      <td>200</td>\n",
       "      <td>\"Apache (internal dummy connection)\"</td>\n",
       "    </tr>\n",
       "    <tr>\n",
       "      <th>3</th>\n",
       "      <td>localhost</td>\n",
       "      <td>127.0.0.1</td>\n",
       "      <td>[23/Feb/2014:03:10:31 +0100]</td>\n",
       "      <td>\"OPTIONS * HTTP/1.0\"</td>\n",
       "      <td>200</td>\n",
       "      <td>\"Apache (internal dummy connection)\"</td>\n",
       "    </tr>\n",
       "    <tr>\n",
       "      <th>4</th>\n",
       "      <td>localhost</td>\n",
       "      <td>127.0.0.1</td>\n",
       "      <td>[23/Feb/2014:03:10:31 +0100]</td>\n",
       "      <td>\"OPTIONS * HTTP/1.0\"</td>\n",
       "      <td>200</td>\n",
       "      <td>\"Apache (internal dummy connection)\"</td>\n",
       "    </tr>\n",
       "  </tbody>\n",
       "</table>\n",
       "</div>"
      ],
      "text/plain": [
       "  current_computer  ip_adress                          time  \\\n",
       "0        localhost  127.0.0.1  [23/Feb/2014:03:10:31 +0100]   \n",
       "1        localhost  127.0.0.1  [23/Feb/2014:03:10:31 +0100]   \n",
       "2        localhost  127.0.0.1  [23/Feb/2014:03:10:31 +0100]   \n",
       "3        localhost  127.0.0.1  [23/Feb/2014:03:10:31 +0100]   \n",
       "4        localhost  127.0.0.1  [23/Feb/2014:03:10:31 +0100]   \n",
       "\n",
       "         client_request  HTTP_status                            user_agent  \n",
       "0  \"OPTIONS * HTTP/1.0\"          200  \"Apache (internal dummy connection)\"  \n",
       "1  \"OPTIONS * HTTP/1.0\"          200  \"Apache (internal dummy connection)\"  \n",
       "2  \"OPTIONS * HTTP/1.0\"          200  \"Apache (internal dummy connection)\"  \n",
       "3  \"OPTIONS * HTTP/1.0\"          200  \"Apache (internal dummy connection)\"  \n",
       "4  \"OPTIONS * HTTP/1.0\"          200  \"Apache (internal dummy connection)\"  "
      ]
     },
     "execution_count": 5,
     "metadata": {},
     "output_type": "execute_result"
    }
   ],
   "source": [
    "access_log.columns = log_columns\n",
    "access_log.head()"
   ]
  },
  {
   "cell_type": "code",
   "execution_count": 6,
   "metadata": {},
   "outputs": [
    {
     "data": {
      "text/html": [
       "<div>\n",
       "<style scoped>\n",
       "    .dataframe tbody tr th:only-of-type {\n",
       "        vertical-align: middle;\n",
       "    }\n",
       "\n",
       "    .dataframe tbody tr th {\n",
       "        vertical-align: top;\n",
       "    }\n",
       "\n",
       "    .dataframe thead th {\n",
       "        text-align: right;\n",
       "    }\n",
       "</style>\n",
       "<table border=\"1\" class=\"dataframe\">\n",
       "  <thead>\n",
       "    <tr style=\"text-align: right;\">\n",
       "      <th></th>\n",
       "      <th>current_computer</th>\n",
       "      <th>ip_adress</th>\n",
       "      <th>time</th>\n",
       "      <th>client_request</th>\n",
       "      <th>HTTP_status</th>\n",
       "      <th>user_agent</th>\n",
       "    </tr>\n",
       "  </thead>\n",
       "  <tbody>\n",
       "    <tr>\n",
       "      <th>0</th>\n",
       "      <td>localhost</td>\n",
       "      <td>127.0.0.1</td>\n",
       "      <td>23/Feb/2014:03:10:31 +0100</td>\n",
       "      <td>\"OPTIONS * HTTP/1.0\"</td>\n",
       "      <td>200</td>\n",
       "      <td>\"Apache (internal dummy connection)\"</td>\n",
       "    </tr>\n",
       "    <tr>\n",
       "      <th>1</th>\n",
       "      <td>localhost</td>\n",
       "      <td>127.0.0.1</td>\n",
       "      <td>23/Feb/2014:03:10:31 +0100</td>\n",
       "      <td>\"OPTIONS * HTTP/1.0\"</td>\n",
       "      <td>200</td>\n",
       "      <td>\"Apache (internal dummy connection)\"</td>\n",
       "    </tr>\n",
       "    <tr>\n",
       "      <th>2</th>\n",
       "      <td>localhost</td>\n",
       "      <td>127.0.0.1</td>\n",
       "      <td>23/Feb/2014:03:10:31 +0100</td>\n",
       "      <td>\"OPTIONS * HTTP/1.0\"</td>\n",
       "      <td>200</td>\n",
       "      <td>\"Apache (internal dummy connection)\"</td>\n",
       "    </tr>\n",
       "    <tr>\n",
       "      <th>3</th>\n",
       "      <td>localhost</td>\n",
       "      <td>127.0.0.1</td>\n",
       "      <td>23/Feb/2014:03:10:31 +0100</td>\n",
       "      <td>\"OPTIONS * HTTP/1.0\"</td>\n",
       "      <td>200</td>\n",
       "      <td>\"Apache (internal dummy connection)\"</td>\n",
       "    </tr>\n",
       "    <tr>\n",
       "      <th>4</th>\n",
       "      <td>localhost</td>\n",
       "      <td>127.0.0.1</td>\n",
       "      <td>23/Feb/2014:03:10:31 +0100</td>\n",
       "      <td>\"OPTIONS * HTTP/1.0\"</td>\n",
       "      <td>200</td>\n",
       "      <td>\"Apache (internal dummy connection)\"</td>\n",
       "    </tr>\n",
       "  </tbody>\n",
       "</table>\n",
       "</div>"
      ],
      "text/plain": [
       "  current_computer  ip_adress                        time  \\\n",
       "0        localhost  127.0.0.1  23/Feb/2014:03:10:31 +0100   \n",
       "1        localhost  127.0.0.1  23/Feb/2014:03:10:31 +0100   \n",
       "2        localhost  127.0.0.1  23/Feb/2014:03:10:31 +0100   \n",
       "3        localhost  127.0.0.1  23/Feb/2014:03:10:31 +0100   \n",
       "4        localhost  127.0.0.1  23/Feb/2014:03:10:31 +0100   \n",
       "\n",
       "         client_request  HTTP_status                            user_agent  \n",
       "0  \"OPTIONS * HTTP/1.0\"          200  \"Apache (internal dummy connection)\"  \n",
       "1  \"OPTIONS * HTTP/1.0\"          200  \"Apache (internal dummy connection)\"  \n",
       "2  \"OPTIONS * HTTP/1.0\"          200  \"Apache (internal dummy connection)\"  \n",
       "3  \"OPTIONS * HTTP/1.0\"          200  \"Apache (internal dummy connection)\"  \n",
       "4  \"OPTIONS * HTTP/1.0\"          200  \"Apache (internal dummy connection)\"  "
      ]
     },
     "execution_count": 6,
     "metadata": {},
     "output_type": "execute_result"
    }
   ],
   "source": [
    "#change time column and convert it to date time\n",
    "access_log.time = access_log.time.str.replace('[', '').str.replace(']', '')\n",
    "\n",
    "access_log.head()"
   ]
  },
  {
   "cell_type": "code",
   "execution_count": 7,
   "metadata": {},
   "outputs": [
    {
     "name": "stdout",
     "output_type": "stream",
     "text": [
      "<class 'pandas.core.frame.DataFrame'>\n",
      "RangeIndex: 261873 entries, 0 to 261872\n",
      "Data columns (total 6 columns):\n",
      " #   Column            Non-Null Count   Dtype \n",
      "---  ------            --------------   ----- \n",
      " 0   current_computer  261873 non-null  object\n",
      " 1   ip_adress         261873 non-null  object\n",
      " 2   time              261873 non-null  object\n",
      " 3   client_request    261873 non-null  object\n",
      " 4   HTTP_status       261873 non-null  int64 \n",
      " 5   user_agent        261873 non-null  object\n",
      "dtypes: int64(1), object(5)\n",
      "memory usage: 12.0+ MB\n"
     ]
    }
   ],
   "source": [
    "access_log.info()"
   ]
  },
  {
   "cell_type": "code",
   "execution_count": 8,
   "metadata": {},
   "outputs": [
    {
     "data": {
      "text/html": [
       "<div>\n",
       "<style scoped>\n",
       "    .dataframe tbody tr th:only-of-type {\n",
       "        vertical-align: middle;\n",
       "    }\n",
       "\n",
       "    .dataframe tbody tr th {\n",
       "        vertical-align: top;\n",
       "    }\n",
       "\n",
       "    .dataframe thead th {\n",
       "        text-align: right;\n",
       "    }\n",
       "</style>\n",
       "<table border=\"1\" class=\"dataframe\">\n",
       "  <thead>\n",
       "    <tr style=\"text-align: right;\">\n",
       "      <th></th>\n",
       "      <th>current_computer</th>\n",
       "      <th>ip_adress</th>\n",
       "      <th>time</th>\n",
       "      <th>client_request</th>\n",
       "      <th>HTTP_status</th>\n",
       "      <th>user_agent</th>\n",
       "    </tr>\n",
       "  </thead>\n",
       "  <tbody>\n",
       "    <tr>\n",
       "      <th>0</th>\n",
       "      <td>localhost</td>\n",
       "      <td>127.0.0.1</td>\n",
       "      <td>2014-02-23 03:10:31+01:00</td>\n",
       "      <td>\"OPTIONS * HTTP/1.0\"</td>\n",
       "      <td>200</td>\n",
       "      <td>\"Apache (internal dummy connection)\"</td>\n",
       "    </tr>\n",
       "    <tr>\n",
       "      <th>1</th>\n",
       "      <td>localhost</td>\n",
       "      <td>127.0.0.1</td>\n",
       "      <td>2014-02-23 03:10:31+01:00</td>\n",
       "      <td>\"OPTIONS * HTTP/1.0\"</td>\n",
       "      <td>200</td>\n",
       "      <td>\"Apache (internal dummy connection)\"</td>\n",
       "    </tr>\n",
       "    <tr>\n",
       "      <th>2</th>\n",
       "      <td>localhost</td>\n",
       "      <td>127.0.0.1</td>\n",
       "      <td>2014-02-23 03:10:31+01:00</td>\n",
       "      <td>\"OPTIONS * HTTP/1.0\"</td>\n",
       "      <td>200</td>\n",
       "      <td>\"Apache (internal dummy connection)\"</td>\n",
       "    </tr>\n",
       "    <tr>\n",
       "      <th>3</th>\n",
       "      <td>localhost</td>\n",
       "      <td>127.0.0.1</td>\n",
       "      <td>2014-02-23 03:10:31+01:00</td>\n",
       "      <td>\"OPTIONS * HTTP/1.0\"</td>\n",
       "      <td>200</td>\n",
       "      <td>\"Apache (internal dummy connection)\"</td>\n",
       "    </tr>\n",
       "    <tr>\n",
       "      <th>4</th>\n",
       "      <td>localhost</td>\n",
       "      <td>127.0.0.1</td>\n",
       "      <td>2014-02-23 03:10:31+01:00</td>\n",
       "      <td>\"OPTIONS * HTTP/1.0\"</td>\n",
       "      <td>200</td>\n",
       "      <td>\"Apache (internal dummy connection)\"</td>\n",
       "    </tr>\n",
       "  </tbody>\n",
       "</table>\n",
       "</div>"
      ],
      "text/plain": [
       "  current_computer  ip_adress                      time        client_request  \\\n",
       "0        localhost  127.0.0.1 2014-02-23 03:10:31+01:00  \"OPTIONS * HTTP/1.0\"   \n",
       "1        localhost  127.0.0.1 2014-02-23 03:10:31+01:00  \"OPTIONS * HTTP/1.0\"   \n",
       "2        localhost  127.0.0.1 2014-02-23 03:10:31+01:00  \"OPTIONS * HTTP/1.0\"   \n",
       "3        localhost  127.0.0.1 2014-02-23 03:10:31+01:00  \"OPTIONS * HTTP/1.0\"   \n",
       "4        localhost  127.0.0.1 2014-02-23 03:10:31+01:00  \"OPTIONS * HTTP/1.0\"   \n",
       "\n",
       "   HTTP_status                            user_agent  \n",
       "0          200  \"Apache (internal dummy connection)\"  \n",
       "1          200  \"Apache (internal dummy connection)\"  \n",
       "2          200  \"Apache (internal dummy connection)\"  \n",
       "3          200  \"Apache (internal dummy connection)\"  \n",
       "4          200  \"Apache (internal dummy connection)\"  "
      ]
     },
     "execution_count": 8,
     "metadata": {},
     "output_type": "execute_result"
    }
   ],
   "source": [
    "#from datetime import datetime\n",
    "\n",
    "access_log['time'] = pd.to_datetime(access_log['time'],format='%d/%b/%Y:%H:%M:%S %z')\n",
    "access_log.head()"
   ]
  },
  {
   "cell_type": "code",
   "execution_count": 9,
   "metadata": {},
   "outputs": [
    {
     "name": "stdout",
     "output_type": "stream",
     "text": [
      "<class 'pandas.core.frame.DataFrame'>\n",
      "RangeIndex: 261873 entries, 0 to 261872\n",
      "Data columns (total 6 columns):\n",
      " #   Column            Non-Null Count   Dtype                               \n",
      "---  ------            --------------   -----                               \n",
      " 0   current_computer  261873 non-null  object                              \n",
      " 1   ip_adress         261873 non-null  object                              \n",
      " 2   time              261873 non-null  datetime64[ns, pytz.FixedOffset(60)]\n",
      " 3   client_request    261873 non-null  object                              \n",
      " 4   HTTP_status       261873 non-null  int64                               \n",
      " 5   user_agent        261873 non-null  object                              \n",
      "dtypes: datetime64[ns, pytz.FixedOffset(60)](1), int64(1), object(4)\n",
      "memory usage: 12.0+ MB\n"
     ]
    }
   ],
   "source": [
    "access_log.info()"
   ]
  },
  {
   "cell_type": "code",
   "execution_count": 10,
   "metadata": {},
   "outputs": [
    {
     "data": {
      "text/plain": [
       "current_computer    0\n",
       "ip_adress           0\n",
       "time                0\n",
       "client_request      0\n",
       "HTTP_status         0\n",
       "user_agent          0\n",
       "dtype: int64"
      ]
     },
     "execution_count": 10,
     "metadata": {},
     "output_type": "execute_result"
    }
   ],
   "source": [
    "access_log.isnull().sum()"
   ]
  },
  {
   "cell_type": "markdown",
   "metadata": {},
   "source": [
    "## Exercici 2\n",
    "\n",
    "Geolocalitza les IP's. \n",
    "\n",
    "IP geocalization I used, it was the free Geolite2 IP : https://dev.maxmind.com/geoip/geoip2/geolite2/"
   ]
  },
  {
   "cell_type": "markdown",
   "metadata": {},
   "source": [
    "As locallhost refers to the location of the system being used (the user's \"home\"), I decided to remove it because the country where the IP is located would not be shown."
   ]
  },
  {
   "cell_type": "code",
   "execution_count": 12,
   "metadata": {},
   "outputs": [
    {
     "data": {
      "text/html": [
       "<div>\n",
       "<style scoped>\n",
       "    .dataframe tbody tr th:only-of-type {\n",
       "        vertical-align: middle;\n",
       "    }\n",
       "\n",
       "    .dataframe tbody tr th {\n",
       "        vertical-align: top;\n",
       "    }\n",
       "\n",
       "    .dataframe thead th {\n",
       "        text-align: right;\n",
       "    }\n",
       "</style>\n",
       "<table border=\"1\" class=\"dataframe\">\n",
       "  <thead>\n",
       "    <tr style=\"text-align: right;\">\n",
       "      <th></th>\n",
       "      <th>current_computer</th>\n",
       "      <th>ip_adress</th>\n",
       "      <th>time</th>\n",
       "      <th>client_request</th>\n",
       "      <th>HTTP_status</th>\n",
       "      <th>user_agent</th>\n",
       "    </tr>\n",
       "  </thead>\n",
       "  <tbody>\n",
       "    <tr>\n",
       "      <th>0</th>\n",
       "      <td>www.akumenius.com</td>\n",
       "      <td>66.249.76.216</td>\n",
       "      <td>2014-02-23 03:10:31+01:00</td>\n",
       "      <td>\"GET /hoteles-baratos/ofertas-hotel-Club-&amp;-Hot...</td>\n",
       "      <td>404</td>\n",
       "      <td>\"Mozilla/5.0 (compatible; Googlebot/2.1; +http...</td>\n",
       "    </tr>\n",
       "    <tr>\n",
       "      <th>1</th>\n",
       "      <td>www.akumenius.com</td>\n",
       "      <td>66.249.76.216</td>\n",
       "      <td>2014-02-23 03:10:33+01:00</td>\n",
       "      <td>\"GET /hoteles-baratos/ofertas-hotel-Metropolis...</td>\n",
       "      <td>404</td>\n",
       "      <td>\"Mozilla/5.0 (compatible; Googlebot/2.1; +http...</td>\n",
       "    </tr>\n",
       "    <tr>\n",
       "      <th>2</th>\n",
       "      <td>www.akumenius.com</td>\n",
       "      <td>66.249.76.216</td>\n",
       "      <td>2014-02-23 03:10:35+01:00</td>\n",
       "      <td>\"GET /hoteles-baratos/ofertas-hotel-Faena-Hote...</td>\n",
       "      <td>404</td>\n",
       "      <td>\"Mozilla/5.0 (compatible; Googlebot/2.1; +http...</td>\n",
       "    </tr>\n",
       "    <tr>\n",
       "      <th>3</th>\n",
       "      <td>www.akumenius.com</td>\n",
       "      <td>66.249.76.216</td>\n",
       "      <td>2014-02-23 03:10:38+01:00</td>\n",
       "      <td>\"GET /hoteles-baratos/ofertas-hotel-Kensington...</td>\n",
       "      <td>404</td>\n",
       "      <td>\"Mozilla/5.0 (compatible; Googlebot/2.1; +http...</td>\n",
       "    </tr>\n",
       "    <tr>\n",
       "      <th>4</th>\n",
       "      <td>www.akumenius.com</td>\n",
       "      <td>66.249.76.216</td>\n",
       "      <td>2014-02-23 03:10:39+01:00</td>\n",
       "      <td>\"GET /destinos-baratos/destinosEstrelles/hotel...</td>\n",
       "      <td>200</td>\n",
       "      <td>\"Mozilla/5.0 (compatible; Googlebot/2.1; +http...</td>\n",
       "    </tr>\n",
       "  </tbody>\n",
       "</table>\n",
       "</div>"
      ],
      "text/plain": [
       "    current_computer      ip_adress                      time  \\\n",
       "0  www.akumenius.com  66.249.76.216 2014-02-23 03:10:31+01:00   \n",
       "1  www.akumenius.com  66.249.76.216 2014-02-23 03:10:33+01:00   \n",
       "2  www.akumenius.com  66.249.76.216 2014-02-23 03:10:35+01:00   \n",
       "3  www.akumenius.com  66.249.76.216 2014-02-23 03:10:38+01:00   \n",
       "4  www.akumenius.com  66.249.76.216 2014-02-23 03:10:39+01:00   \n",
       "\n",
       "                                      client_request  HTTP_status  \\\n",
       "0  \"GET /hoteles-baratos/ofertas-hotel-Club-&-Hot...          404   \n",
       "1  \"GET /hoteles-baratos/ofertas-hotel-Metropolis...          404   \n",
       "2  \"GET /hoteles-baratos/ofertas-hotel-Faena-Hote...          404   \n",
       "3  \"GET /hoteles-baratos/ofertas-hotel-Kensington...          404   \n",
       "4  \"GET /destinos-baratos/destinosEstrelles/hotel...          200   \n",
       "\n",
       "                                          user_agent  \n",
       "0  \"Mozilla/5.0 (compatible; Googlebot/2.1; +http...  \n",
       "1  \"Mozilla/5.0 (compatible; Googlebot/2.1; +http...  \n",
       "2  \"Mozilla/5.0 (compatible; Googlebot/2.1; +http...  \n",
       "3  \"Mozilla/5.0 (compatible; Googlebot/2.1; +http...  \n",
       "4  \"Mozilla/5.0 (compatible; Googlebot/2.1; +http...  "
      ]
     },
     "execution_count": 12,
     "metadata": {},
     "output_type": "execute_result"
    }
   ],
   "source": [
    "#Remove the 'locallhost' data\n",
    "access_new = access_log[(access_log['current_computer'] != 'localhost' )].reset_index(drop=True)\n",
    "access_new.head()                "
   ]
  },
  {
   "cell_type": "code",
   "execution_count": 13,
   "metadata": {},
   "outputs": [
    {
     "name": "stdout",
     "output_type": "stream",
     "text": [
      "<class 'pandas.core.frame.DataFrame'>\n",
      "RangeIndex: 247746 entries, 0 to 247745\n",
      "Data columns (total 6 columns):\n",
      " #   Column            Non-Null Count   Dtype                               \n",
      "---  ------            --------------   -----                               \n",
      " 0   current_computer  247746 non-null  object                              \n",
      " 1   ip_adress         247746 non-null  object                              \n",
      " 2   time              247746 non-null  datetime64[ns, pytz.FixedOffset(60)]\n",
      " 3   client_request    247746 non-null  object                              \n",
      " 4   HTTP_status       247746 non-null  int64                               \n",
      " 5   user_agent        247746 non-null  object                              \n",
      "dtypes: datetime64[ns, pytz.FixedOffset(60)](1), int64(1), object(4)\n",
      "memory usage: 11.3+ MB\n"
     ]
    }
   ],
   "source": [
    "access_new.info()"
   ]
  },
  {
   "cell_type": "markdown",
   "metadata": {},
   "source": [
    "There are 247746 log access. However the goal is to show the location of each ip, so they will be grouped together and a table created showing them as unique."
   ]
  },
  {
   "cell_type": "code",
   "execution_count": 14,
   "metadata": {},
   "outputs": [],
   "source": [
    "#Creating a function to use Geolite2\n",
    "\n",
    "from geoip import geolite2\n",
    "import geoip2.database\n",
    "\n",
    "def ip_info(ip):\n",
    "    with geoip2.database.Reader('GeoLite2-Country.mmdb') as reader:\n",
    "        response = reader.country(ip)\n",
    "        return response.country.name\n",
    "  "
   ]
  },
  {
   "cell_type": "code",
   "execution_count": 15,
   "metadata": {},
   "outputs": [
    {
     "data": {
      "text/html": [
       "<div>\n",
       "<style scoped>\n",
       "    .dataframe tbody tr th:only-of-type {\n",
       "        vertical-align: middle;\n",
       "    }\n",
       "\n",
       "    .dataframe tbody tr th {\n",
       "        vertical-align: top;\n",
       "    }\n",
       "\n",
       "    .dataframe thead th {\n",
       "        text-align: right;\n",
       "    }\n",
       "</style>\n",
       "<table border=\"1\" class=\"dataframe\">\n",
       "  <thead>\n",
       "    <tr style=\"text-align: right;\">\n",
       "      <th></th>\n",
       "      <th>current_computer</th>\n",
       "      <th>ip_adress</th>\n",
       "      <th>time</th>\n",
       "      <th>client_request</th>\n",
       "      <th>HTTP_status</th>\n",
       "      <th>user_agent</th>\n",
       "      <th>country</th>\n",
       "    </tr>\n",
       "  </thead>\n",
       "  <tbody>\n",
       "    <tr>\n",
       "      <th>0</th>\n",
       "      <td>www.akumenius.com</td>\n",
       "      <td>66.249.76.216</td>\n",
       "      <td>2014-02-23 03:10:31+01:00</td>\n",
       "      <td>\"GET /hoteles-baratos/ofertas-hotel-Club-&amp;-Hot...</td>\n",
       "      <td>404</td>\n",
       "      <td>\"Mozilla/5.0 (compatible; Googlebot/2.1; +http...</td>\n",
       "      <td>United States</td>\n",
       "    </tr>\n",
       "    <tr>\n",
       "      <th>1</th>\n",
       "      <td>www.akumenius.com</td>\n",
       "      <td>66.249.76.216</td>\n",
       "      <td>2014-02-23 03:10:33+01:00</td>\n",
       "      <td>\"GET /hoteles-baratos/ofertas-hotel-Metropolis...</td>\n",
       "      <td>404</td>\n",
       "      <td>\"Mozilla/5.0 (compatible; Googlebot/2.1; +http...</td>\n",
       "      <td>United States</td>\n",
       "    </tr>\n",
       "    <tr>\n",
       "      <th>2</th>\n",
       "      <td>www.akumenius.com</td>\n",
       "      <td>66.249.76.216</td>\n",
       "      <td>2014-02-23 03:10:35+01:00</td>\n",
       "      <td>\"GET /hoteles-baratos/ofertas-hotel-Faena-Hote...</td>\n",
       "      <td>404</td>\n",
       "      <td>\"Mozilla/5.0 (compatible; Googlebot/2.1; +http...</td>\n",
       "      <td>United States</td>\n",
       "    </tr>\n",
       "    <tr>\n",
       "      <th>3</th>\n",
       "      <td>www.akumenius.com</td>\n",
       "      <td>66.249.76.216</td>\n",
       "      <td>2014-02-23 03:10:38+01:00</td>\n",
       "      <td>\"GET /hoteles-baratos/ofertas-hotel-Kensington...</td>\n",
       "      <td>404</td>\n",
       "      <td>\"Mozilla/5.0 (compatible; Googlebot/2.1; +http...</td>\n",
       "      <td>United States</td>\n",
       "    </tr>\n",
       "    <tr>\n",
       "      <th>4</th>\n",
       "      <td>www.akumenius.com</td>\n",
       "      <td>66.249.76.216</td>\n",
       "      <td>2014-02-23 03:10:39+01:00</td>\n",
       "      <td>\"GET /destinos-baratos/destinosEstrelles/hotel...</td>\n",
       "      <td>200</td>\n",
       "      <td>\"Mozilla/5.0 (compatible; Googlebot/2.1; +http...</td>\n",
       "      <td>United States</td>\n",
       "    </tr>\n",
       "  </tbody>\n",
       "</table>\n",
       "</div>"
      ],
      "text/plain": [
       "    current_computer      ip_adress                      time  \\\n",
       "0  www.akumenius.com  66.249.76.216 2014-02-23 03:10:31+01:00   \n",
       "1  www.akumenius.com  66.249.76.216 2014-02-23 03:10:33+01:00   \n",
       "2  www.akumenius.com  66.249.76.216 2014-02-23 03:10:35+01:00   \n",
       "3  www.akumenius.com  66.249.76.216 2014-02-23 03:10:38+01:00   \n",
       "4  www.akumenius.com  66.249.76.216 2014-02-23 03:10:39+01:00   \n",
       "\n",
       "                                      client_request  HTTP_status  \\\n",
       "0  \"GET /hoteles-baratos/ofertas-hotel-Club-&-Hot...          404   \n",
       "1  \"GET /hoteles-baratos/ofertas-hotel-Metropolis...          404   \n",
       "2  \"GET /hoteles-baratos/ofertas-hotel-Faena-Hote...          404   \n",
       "3  \"GET /hoteles-baratos/ofertas-hotel-Kensington...          404   \n",
       "4  \"GET /destinos-baratos/destinosEstrelles/hotel...          200   \n",
       "\n",
       "                                          user_agent        country  \n",
       "0  \"Mozilla/5.0 (compatible; Googlebot/2.1; +http...  United States  \n",
       "1  \"Mozilla/5.0 (compatible; Googlebot/2.1; +http...  United States  \n",
       "2  \"Mozilla/5.0 (compatible; Googlebot/2.1; +http...  United States  \n",
       "3  \"Mozilla/5.0 (compatible; Googlebot/2.1; +http...  United States  \n",
       "4  \"Mozilla/5.0 (compatible; Googlebot/2.1; +http...  United States  "
      ]
     },
     "execution_count": 15,
     "metadata": {},
     "output_type": "execute_result"
    }
   ],
   "source": [
    "access_country = access_new.copy()\n",
    "\n",
    "access_country['country'] = access_country.loc[:,'ip_adress'].apply(lambda x: ip_info(x))\n",
    "\n",
    "access_country.head()"
   ]
  },
  {
   "cell_type": "code",
   "execution_count": null,
   "metadata": {},
   "outputs": [],
   "source": []
  },
  {
   "cell_type": "markdown",
   "metadata": {},
   "source": [
    "## Exercici 3\n",
    "\n",
    "Mostra'm la teva creativitat, Sorprèn-me fes un pas més enllà amb l'anàlisi anterior."
   ]
  },
  {
   "cell_type": "code",
   "execution_count": 32,
   "metadata": {},
   "outputs": [],
   "source": [
    "import matplotlib.pyplot as plt\n",
    "import seaborn as sns"
   ]
  },
  {
   "cell_type": "code",
   "execution_count": 24,
   "metadata": {},
   "outputs": [
    {
     "name": "stdout",
     "output_type": "stream",
     "text": [
      "<class 'pandas.core.frame.DataFrame'>\n",
      "RangeIndex: 247746 entries, 0 to 247745\n",
      "Data columns (total 7 columns):\n",
      " #   Column            Non-Null Count   Dtype                               \n",
      "---  ------            --------------   -----                               \n",
      " 0   current_computer  247746 non-null  object                              \n",
      " 1   ip_adress         247746 non-null  object                              \n",
      " 2   time              247746 non-null  datetime64[ns, pytz.FixedOffset(60)]\n",
      " 3   client_request    247746 non-null  object                              \n",
      " 4   HTTP_status       247746 non-null  int64                               \n",
      " 5   user_agent        247746 non-null  object                              \n",
      " 6   country           246765 non-null  object                              \n",
      "dtypes: datetime64[ns, pytz.FixedOffset(60)](1), int64(1), object(5)\n",
      "memory usage: 13.2+ MB\n"
     ]
    }
   ],
   "source": [
    "#Information about the new table\n",
    "access_country.info()\n"
   ]
  },
  {
   "cell_type": "code",
   "execution_count": 25,
   "metadata": {},
   "outputs": [
    {
     "data": {
      "text/plain": [
       "current_computer      0\n",
       "ip_adress             0\n",
       "time                  0\n",
       "client_request        0\n",
       "HTTP_status           0\n",
       "user_agent            0\n",
       "country             981\n",
       "dtype: int64"
      ]
     },
     "execution_count": 25,
     "metadata": {},
     "output_type": "execute_result"
    }
   ],
   "source": [
    "access_country.isnull().sum()"
   ]
  },
  {
   "cell_type": "markdown",
   "metadata": {},
   "source": [
    "There are 981 access without information about the country. The table will be filled with 'unspecified country'"
   ]
  },
  {
   "cell_type": "code",
   "execution_count": 27,
   "metadata": {},
   "outputs": [
    {
     "name": "stdout",
     "output_type": "stream",
     "text": [
      "<class 'pandas.core.frame.DataFrame'>\n",
      "RangeIndex: 247746 entries, 0 to 247745\n",
      "Data columns (total 7 columns):\n",
      " #   Column            Non-Null Count   Dtype                               \n",
      "---  ------            --------------   -----                               \n",
      " 0   current_computer  247746 non-null  object                              \n",
      " 1   ip_adress         247746 non-null  object                              \n",
      " 2   time              247746 non-null  datetime64[ns, pytz.FixedOffset(60)]\n",
      " 3   client_request    247746 non-null  object                              \n",
      " 4   HTTP_status       247746 non-null  int64                               \n",
      " 5   user_agent        247746 non-null  object                              \n",
      " 6   country           247746 non-null  object                              \n",
      "dtypes: datetime64[ns, pytz.FixedOffset(60)](1), int64(1), object(5)\n",
      "memory usage: 13.2+ MB\n"
     ]
    }
   ],
   "source": [
    "access_country[\"country\"].fillna(\"unspecified country\", inplace = True)\n",
    "access_country.info()\n"
   ]
  },
  {
   "cell_type": "code",
   "execution_count": 40,
   "metadata": {},
   "outputs": [
    {
     "data": {
      "text/plain": [
       "Spain             149117\n",
       "United States      69890\n",
       "China               6976\n",
       "Netherlands         6305\n",
       "Germany             1987\n",
       "France              1724\n",
       "Mexico              1244\n",
       "Brazil              1101\n",
       "United Kingdom      1073\n",
       "Italy               1042\n",
       "Name: country, dtype: int64"
      ]
     },
     "execution_count": 40,
     "metadata": {},
     "output_type": "execute_result"
    }
   ],
   "source": [
    "#How many access per country \n",
    "\n",
    "access_country['country'].value_counts().head(10)"
   ]
  },
  {
   "cell_type": "code",
   "execution_count": 51,
   "metadata": {},
   "outputs": [
    {
     "data": {
      "text/plain": [
       "Text(0.5, 1.0, 'Access per Country (Top 10)')"
      ]
     },
     "execution_count": 51,
     "metadata": {},
     "output_type": "execute_result"
    },
    {
     "data": {
      "image/png": "[encoded data removed]",
      "text/plain": [
       "<Figure size 720x432 with 1 Axes>"
      ]
     },
     "metadata": {
      "needs_background": "light"
     },
     "output_type": "display_data"
    }
   ],
   "source": [
    "#Top 10 access country\n",
    "\n",
    "plt.figure(figsize=(10,6))\n",
    "\n",
    "#seaborn.barplot(x=df.reputation.value_counts().index, y=df.reputation.value_counts())\n",
    "\n",
    "sns.barplot(x= access_country['country'].value_counts().head(10).index, y=access_country['country'].value_counts().head(10) )\n",
    "plt.xlabel(\"Countries\")\n",
    "plt.ylabel('Access')\n",
    "plt.title('Access per Country (Top 10)')"
   ]
  },
  {
   "cell_type": "code",
   "execution_count": 45,
   "metadata": {},
   "outputs": [
    {
     "data": {
      "text/html": [
       "<div>\n",
       "<style scoped>\n",
       "    .dataframe tbody tr th:only-of-type {\n",
       "        vertical-align: middle;\n",
       "    }\n",
       "\n",
       "    .dataframe tbody tr th {\n",
       "        vertical-align: top;\n",
       "    }\n",
       "\n",
       "    .dataframe thead th {\n",
       "        text-align: right;\n",
       "    }\n",
       "</style>\n",
       "<table border=\"1\" class=\"dataframe\">\n",
       "  <thead>\n",
       "    <tr style=\"text-align: right;\">\n",
       "      <th></th>\n",
       "      <th>index</th>\n",
       "      <th>current_computer</th>\n",
       "      <th>ip_adress</th>\n",
       "      <th>time</th>\n",
       "      <th>client_request</th>\n",
       "      <th>HTTP_status</th>\n",
       "      <th>user_agent</th>\n",
       "      <th>country</th>\n",
       "      <th>hour</th>\n",
       "    </tr>\n",
       "  </thead>\n",
       "  <tbody>\n",
       "    <tr>\n",
       "      <th>0</th>\n",
       "      <td>0</td>\n",
       "      <td>www.akumenius.com</td>\n",
       "      <td>66.249.76.216</td>\n",
       "      <td>2014-02-23 03:10:31+01:00</td>\n",
       "      <td>\"GET /hoteles-baratos/ofertas-hotel-Club-&amp;-Hot...</td>\n",
       "      <td>404</td>\n",
       "      <td>\"Mozilla/5.0 (compatible; Googlebot/2.1; +http...</td>\n",
       "      <td>United States</td>\n",
       "      <td>3</td>\n",
       "    </tr>\n",
       "    <tr>\n",
       "      <th>1</th>\n",
       "      <td>1</td>\n",
       "      <td>www.akumenius.com</td>\n",
       "      <td>66.249.76.216</td>\n",
       "      <td>2014-02-23 03:10:33+01:00</td>\n",
       "      <td>\"GET /hoteles-baratos/ofertas-hotel-Metropolis...</td>\n",
       "      <td>404</td>\n",
       "      <td>\"Mozilla/5.0 (compatible; Googlebot/2.1; +http...</td>\n",
       "      <td>United States</td>\n",
       "      <td>3</td>\n",
       "    </tr>\n",
       "    <tr>\n",
       "      <th>2</th>\n",
       "      <td>2</td>\n",
       "      <td>www.akumenius.com</td>\n",
       "      <td>66.249.76.216</td>\n",
       "      <td>2014-02-23 03:10:35+01:00</td>\n",
       "      <td>\"GET /hoteles-baratos/ofertas-hotel-Faena-Hote...</td>\n",
       "      <td>404</td>\n",
       "      <td>\"Mozilla/5.0 (compatible; Googlebot/2.1; +http...</td>\n",
       "      <td>United States</td>\n",
       "      <td>3</td>\n",
       "    </tr>\n",
       "    <tr>\n",
       "      <th>3</th>\n",
       "      <td>3</td>\n",
       "      <td>www.akumenius.com</td>\n",
       "      <td>66.249.76.216</td>\n",
       "      <td>2014-02-23 03:10:38+01:00</td>\n",
       "      <td>\"GET /hoteles-baratos/ofertas-hotel-Kensington...</td>\n",
       "      <td>404</td>\n",
       "      <td>\"Mozilla/5.0 (compatible; Googlebot/2.1; +http...</td>\n",
       "      <td>United States</td>\n",
       "      <td>3</td>\n",
       "    </tr>\n",
       "    <tr>\n",
       "      <th>4</th>\n",
       "      <td>4</td>\n",
       "      <td>www.akumenius.com</td>\n",
       "      <td>66.249.76.216</td>\n",
       "      <td>2014-02-23 03:10:39+01:00</td>\n",
       "      <td>\"GET /destinos-baratos/destinosEstrelles/hotel...</td>\n",
       "      <td>200</td>\n",
       "      <td>\"Mozilla/5.0 (compatible; Googlebot/2.1; +http...</td>\n",
       "      <td>United States</td>\n",
       "      <td>3</td>\n",
       "    </tr>\n",
       "  </tbody>\n",
       "</table>\n",
       "</div>"
      ],
      "text/plain": [
       "   index   current_computer      ip_adress                      time  \\\n",
       "0      0  www.akumenius.com  66.249.76.216 2014-02-23 03:10:31+01:00   \n",
       "1      1  www.akumenius.com  66.249.76.216 2014-02-23 03:10:33+01:00   \n",
       "2      2  www.akumenius.com  66.249.76.216 2014-02-23 03:10:35+01:00   \n",
       "3      3  www.akumenius.com  66.249.76.216 2014-02-23 03:10:38+01:00   \n",
       "4      4  www.akumenius.com  66.249.76.216 2014-02-23 03:10:39+01:00   \n",
       "\n",
       "                                      client_request  HTTP_status  \\\n",
       "0  \"GET /hoteles-baratos/ofertas-hotel-Club-&-Hot...          404   \n",
       "1  \"GET /hoteles-baratos/ofertas-hotel-Metropolis...          404   \n",
       "2  \"GET /hoteles-baratos/ofertas-hotel-Faena-Hote...          404   \n",
       "3  \"GET /hoteles-baratos/ofertas-hotel-Kensington...          404   \n",
       "4  \"GET /destinos-baratos/destinosEstrelles/hotel...          200   \n",
       "\n",
       "                                          user_agent        country  hour  \n",
       "0  \"Mozilla/5.0 (compatible; Googlebot/2.1; +http...  United States     3  \n",
       "1  \"Mozilla/5.0 (compatible; Googlebot/2.1; +http...  United States     3  \n",
       "2  \"Mozilla/5.0 (compatible; Googlebot/2.1; +http...  United States     3  \n",
       "3  \"Mozilla/5.0 (compatible; Googlebot/2.1; +http...  United States     3  \n",
       "4  \"Mozilla/5.0 (compatible; Googlebot/2.1; +http...  United States     3  "
      ]
     },
     "execution_count": 45,
     "metadata": {},
     "output_type": "execute_result"
    }
   ],
   "source": [
    "# Time access\n",
    "\n",
    "df_box = access_country.copy()\n",
    "df_box.reset_index(inplace=True)\n",
    "df_box['hour'] = [d.hour for d in df_box.time]\n",
    "\n",
    "df_box.head()\n"
   ]
  },
  {
   "cell_type": "code",
   "execution_count": 48,
   "metadata": {},
   "outputs": [
    {
     "data": {
      "text/plain": [
       "6      3027\n",
       "7      3329\n",
       "5      3958\n",
       "2      4157\n",
       "4      5140\n",
       "1      5351\n",
       "3      5596\n",
       "8      6458\n",
       "0      8187\n",
       "23     8358\n",
       "9      9058\n",
       "21     9679\n",
       "10     9740\n",
       "22    10310\n",
       "19    11664\n",
       "14    11880\n",
       "20    13302\n",
       "18    14360\n",
       "11    14435\n",
       "13    14935\n",
       "17    16778\n",
       "16    19074\n",
       "15    19210\n",
       "12    19760\n",
       "Name: hour, dtype: int64"
      ]
     },
     "execution_count": 48,
     "metadata": {},
     "output_type": "execute_result"
    }
   ],
   "source": [
    "df_box['hour'].value_counts().sort_values()"
   ]
  },
  {
   "cell_type": "code",
   "execution_count": 50,
   "metadata": {},
   "outputs": [
    {
     "data": {
      "text/plain": [
       "Text(0.5, 1.0, 'Access ')"
      ]
     },
     "execution_count": 50,
     "metadata": {},
     "output_type": "execute_result"
    },
    {
     "data": {
      "image/png": "[encoded data removed]",
      "text/plain": [
       "<Figure size 720x432 with 1 Axes>"
      ]
     },
     "metadata": {
      "needs_background": "light"
     },
     "output_type": "display_data"
    }
   ],
   "source": [
    "plt.figure(figsize=(10,6))\n",
    "sns.barplot(x=df_box['hour'].value_counts().sort_values().index, y=df_box['hour'].value_counts().sort_values())\n",
    "plt.xlabel(\"Hour\")\n",
    "plt.ylabel('Access per Hour')\n",
    "plt.title('Access ')"
   ]
  }
 ],
 "metadata": {
  "kernelspec": {
   "display_name": "Python 3",
   "language": "python",
   "name": "python3"
  },
  "language_info": {
   "codemirror_mode": {
    "name": "ipython",
    "version": 3
   },
   "file_extension": ".py",
   "mimetype": "text/x-python",
   "name": "python",
   "nbconvert_exporter": "python",
   "pygments_lexer": "ipython3",
   "version": "3.8.5"
  }
 },
 "nbformat": 4,
 "nbformat_minor": 4
}
